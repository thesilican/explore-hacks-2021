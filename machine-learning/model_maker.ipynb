{
 "cells": [
  {
   "cell_type": "code",
   "execution_count": 1,
   "source": [
    "import tensorflow as tf\r\n",
    "from tensorflow.keras.layers.experimental.preprocessing import TextVectorization\r\n",
    "from tensorflow.keras import layers\r\n",
    "from tensorflow.keras import losses\r\n",
    "import matplotlib.pyplot as plt\r\n",
    "import os\r\n",
    "import tensorflow as tf \r\n"
   ],
   "outputs": [],
   "metadata": {}
  },
  {
   "cell_type": "code",
   "execution_count": 2,
   "source": [
    "CUR_DIR = os.getcwd()\r\n",
    "TRAIN_DIR = os.path.join(CUR_DIR, \"data\", \"train\")\r\n",
    "TEST_DIR = os.path.join(CUR_DIR, \"data\", \"test\")\r\n",
    "BATCH_SIZE = 32"
   ],
   "outputs": [],
   "metadata": {}
  },
  {
   "cell_type": "code",
   "execution_count": 3,
   "source": [
    "#creates a labelled tf.data.Dataset\r\n",
    "raw_train_dataset = tf.keras.preprocessing.text_dataset_from_directory(TRAIN_DIR, batch_size=BATCH_SIZE,)\r\n",
    "raw_test_dataset = tf.keras.preprocessing.text_dataset_from_directory(TEST_DIR, batch_size=BATCH_SIZE)\r\n"
   ],
   "outputs": [
    {
     "output_type": "stream",
     "name": "stdout",
     "text": [
      "Found 1306 files belonging to 2 classes.\n",
      "Found 158 files belonging to 2 classes.\n"
     ]
    }
   ],
   "metadata": {}
  },
  {
   "cell_type": "code",
   "execution_count": 4,
   "source": [
    "#1024 words will be in the table mapping words to vectors\r\n",
    "max_features = 1024\r\n",
    "#output will be tensors of shape [batch_size, sequence_length=8], optimizing for average discord messages of ~8 words\r\n",
    "sequence_length = 8\r\n",
    "\r\n",
    "#note TextVectorization automatically standardizes the samples by lowercasing and stripping punctuation\r\n",
    "vectorize_layer = TextVectorization(\r\n",
    "    max_tokens=max_features,\r\n",
    "    output_mode='int',\r\n",
    "    output_sequence_length=sequence_length)"
   ],
   "outputs": [],
   "metadata": {}
  },
  {
   "cell_type": "code",
   "execution_count": 5,
   "source": [
    "#removes the labels from the dataset\r\n",
    "train_text = raw_train_dataset.map(lambda x, y: x)\r\n",
    "\r\n",
    "#fits the state of the vectorize_layer to the dataset\r\n",
    "vectorize_layer.adapt(train_text)"
   ],
   "outputs": [],
   "metadata": {}
  },
  {
   "cell_type": "code",
   "execution_count": 6,
   "source": [
    "def vectorize_text(text, label):\r\n",
    "  text = tf.expand_dims(text, -1)\r\n",
    "  return vectorize_layer(text), label"
   ],
   "outputs": [],
   "metadata": {}
  },
  {
   "cell_type": "code",
   "execution_count": 7,
   "source": [
    "#applies the vectorize_layer to the dataset\r\n",
    "train_dataset = raw_train_dataset.map(vectorize_text)\r\n",
    "test_dataset = raw_test_dataset.map(vectorize_text)"
   ],
   "outputs": [],
   "metadata": {}
  },
  {
   "cell_type": "code",
   "execution_count": 8,
   "source": [
    "#performance tweaking data loading for training\r\n",
    "AUTOTUNE = tf.data.AUTOTUNE\r\n",
    "\r\n",
    "train_ds = train_dataset.cache().prefetch(buffer_size=AUTOTUNE)\r\n",
    "test_ds = test_dataset.cache().prefetch(buffer_size=AUTOTUNE)"
   ],
   "outputs": [],
   "metadata": {}
  },
  {
   "cell_type": "code",
   "execution_count": 9,
   "source": [
    "#each embedding vector will be of 131,072 dimension\r\n",
    "embedding_dim = 131072\r\n",
    "model = tf.keras.Sequential([\r\n",
    "\r\n",
    "  #maps words(by token) to embedding vector\r\n",
    "  layers.Embedding(max_features + 1, embedding_dim),\r\n",
    "\r\n",
    "  #randomly sets input units to 0 with frequency of 0.2 to prevent overfitting\r\n",
    "  layers.Dropout(0.2),\r\n",
    "  \r\n",
    "  #returns a singular ouput vector for each example by averaging over the dimensions, dealing with different length inputs\r\n",
    "  layers.GlobalAveragePooling1D(),\r\n",
    "\r\n",
    "  #randomly sets input units to 0 with frequency of 0.2 to prevent overfitting\r\n",
    "  layers.Dropout(0.2),\r\n",
    "\r\n",
    "  #dense layer, 4 units\r\n",
    "  layers.Dense(4),\r\n",
    "\r\n",
    "  #dense layer, dimension of output = 1\r\n",
    "  layers.Dense(1)])\r\n",
    "\r\n",
    "model.summary()"
   ],
   "outputs": [
    {
     "output_type": "stream",
     "name": "stdout",
     "text": [
      "Model: \"sequential\"\n",
      "_________________________________________________________________\n",
      "Layer (type)                 Output Shape              Param #   \n",
      "=================================================================\n",
      "embedding (Embedding)        (None, None, 131072)      134348800 \n",
      "_________________________________________________________________\n",
      "dropout (Dropout)            (None, None, 131072)      0         \n",
      "_________________________________________________________________\n",
      "global_average_pooling1d (Gl (None, 131072)            0         \n",
      "_________________________________________________________________\n",
      "dropout_1 (Dropout)          (None, 131072)            0         \n",
      "_________________________________________________________________\n",
      "dense (Dense)                (None, 4)                 524292    \n",
      "_________________________________________________________________\n",
      "dense_1 (Dense)              (None, 1)                 5         \n",
      "=================================================================\n",
      "Total params: 134,873,097\n",
      "Trainable params: 134,873,097\n",
      "Non-trainable params: 0\n",
      "_________________________________________________________________\n"
     ]
    }
   ],
   "metadata": {}
  },
  {
   "cell_type": "code",
   "execution_count": 10,
   "source": [
    " #note from_logits=True, so softmax function is handled inside the loss\r\n",
    " model.compile(loss=losses.BinaryCrossentropy(from_logits=True),\r\n",
    "              optimizer='adam',\r\n",
    "              metrics=tf.metrics.BinaryAccuracy(threshold=0.0))"
   ],
   "outputs": [],
   "metadata": {}
  },
  {
   "cell_type": "code",
   "execution_count": 15,
   "source": [
    "epochs = 12\r\n",
    "history = model.fit(\r\n",
    "    train_ds,\r\n",
    "    epochs=epochs)"
   ],
   "outputs": [
    {
     "output_type": "stream",
     "name": "stdout",
     "text": [
      "Epoch 1/12\n",
      "41/41 [==============================] - 43s 1s/step - loss: 0.0219 - binary_accuracy: 0.9977\n",
      "Epoch 2/12\n",
      "41/41 [==============================] - 42s 1s/step - loss: 0.0221 - binary_accuracy: 0.9985\n",
      "Epoch 3/12\n",
      "41/41 [==============================] - 41s 1s/step - loss: 0.0185 - binary_accuracy: 0.9992\n",
      "Epoch 4/12\n",
      "41/41 [==============================] - 42s 1s/step - loss: 0.0156 - binary_accuracy: 0.9992\n",
      "Epoch 5/12\n",
      "41/41 [==============================] - 45s 1s/step - loss: 0.0148 - binary_accuracy: 0.9992\n",
      "Epoch 6/12\n",
      "41/41 [==============================] - 44s 1s/step - loss: 0.0147 - binary_accuracy: 0.9992\n",
      "Epoch 7/12\n",
      "41/41 [==============================] - 45s 1s/step - loss: 0.0143 - binary_accuracy: 0.9992\n",
      "Epoch 8/12\n",
      "41/41 [==============================] - 45s 1s/step - loss: 0.0143 - binary_accuracy: 0.9992\n",
      "Epoch 9/12\n",
      "41/41 [==============================] - 44s 1s/step - loss: 0.0143 - binary_accuracy: 0.9992\n",
      "Epoch 10/12\n",
      "41/41 [==============================] - 42s 1s/step - loss: 0.0144 - binary_accuracy: 0.9992\n",
      "Epoch 11/12\n",
      "41/41 [==============================] - 42s 1s/step - loss: 0.0142 - binary_accuracy: 0.9992\n",
      "Epoch 12/12\n",
      "41/41 [==============================] - 43s 1s/step - loss: 0.0139 - binary_accuracy: 0.9992\n"
     ]
    }
   ],
   "metadata": {}
  },
  {
   "cell_type": "code",
   "execution_count": 16,
   "source": [
    "loss, accuracy = model.evaluate(test_dataset)\r\n",
    "\r\n",
    "print(\"Loss: \", loss)\r\n",
    "print(\"Accuracy: \", accuracy)"
   ],
   "outputs": [
    {
     "output_type": "stream",
     "name": "stdout",
     "text": [
      "5/5 [==============================] - 0s 29ms/step - loss: 1.1041 - binary_accuracy: 0.8101\n",
      "Loss:  1.1041321754455566\n",
      "Accuracy:  0.8101266026496887\n"
     ]
    }
   ],
   "metadata": {}
  },
  {
   "cell_type": "code",
   "execution_count": 18,
   "source": [
    "history_dict = history.history\r\n",
    "history_dict.keys()\r\n",
    "acc = history_dict['binary_accuracy']\r\n",
    "loss = history_dict['loss']\r\n",
    "\r\n",
    "epochs = range(1, len(acc) + 1)\r\n",
    "\r\n",
    "plt.plot(epochs, loss, 'b', label='Training loss')\r\n",
    "plt.title('Training loss')\r\n",
    "plt.xlabel('Epochs')\r\n",
    "plt.ylabel('Loss')\r\n",
    "plt.legend()\r\n",
    "\r\n",
    "plt.show()"
   ],
   "outputs": [
    {
     "output_type": "display_data",
     "data": {
      "text/plain": [
       "<Figure size 432x288 with 1 Axes>"
      ],
      "image/png": "[encoded data removed]"
     },
     "metadata": {
      "needs_background": "light"
     }
    }
   ],
   "metadata": {}
  },
  {
   "cell_type": "code",
   "execution_count": 21,
   "source": [
    "#builds a deployable model with vectorize_layer inside, so it can take a string as an input\r\n",
    "model_built_in_text_vectorizer = tf.keras.Sequential([\r\n",
    "  vectorize_layer,\r\n",
    "  model,\r\n",
    "  #sigmoid because it is a probability\r\n",
    "  layers.Activation('sigmoid')\r\n",
    "])\r\n",
    "model_built_in_text_vectorizer.compile(\r\n",
    "    loss=losses.BinaryCrossentropy(from_logits=False), optimizer=\"adam\", metrics=['accuracy']\r\n",
    ")"
   ],
   "outputs": [],
   "metadata": {}
  },
  {
   "cell_type": "code",
   "execution_count": 24,
   "source": [
    "#saves the model that can be implemented (with a text-vectorizing layer)\r\n",
    "model_built_in_text_vectorizer.save(\"accurate_model_0\")"
   ],
   "outputs": [],
   "metadata": {}
  }
 ],
 "metadata": {
  "orig_nbformat": 4,
  "language_info": {
   "name": "python",
   "version": "3.9.4",
   "mimetype": "text/x-python",
   "codemirror_mode": {
    "name": "ipython",
    "version": 3
   },
   "pygments_lexer": "ipython3",
   "nbconvert_exporter": "python",
   "file_extension": ".py"
  },
  "kernelspec": {
   "name": "python3",
   "display_name": "Python 3.9.4 64-bit"
  },
  "interpreter": {
   "hash": "6cbb16c13b18e0460413e9178e417aef82e3a5f0d8a809cc8c4ffdee2c561ffd"
  }
 },
 "nbformat": 4,
 "nbformat_minor": 2
}